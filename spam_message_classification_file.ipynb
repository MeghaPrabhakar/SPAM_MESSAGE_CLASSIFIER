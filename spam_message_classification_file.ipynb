{
  "nbformat": 4,
  "nbformat_minor": 0,
  "metadata": {
    "colab": {
      "name": "spam_message_classification_file.ipynb",
      "provenance": []
    },
    "kernelspec": {
      "name": "python3",
      "display_name": "Python 3"
    },
    "language_info": {
      "name": "python"
    }
  },
  "cells": [
    {
      "cell_type": "code",
      "execution_count": 5,
      "metadata": {
        "colab": {
          "base_uri": "https://localhost:8080/",
          "height": 947
        },
        "id": "okGq7crhoT25",
        "outputId": "b1cc74e9-c60b-4f1c-9122-993f06e9004b"
      },
      "outputs": [
        {
          "output_type": "display_data",
          "data": {
            "image/png": "[encoded data removed]",
            "text/plain": [
              "<Figure size 432x288 with 1 Axes>"
            ]
          },
          "metadata": {
            "needs_background": "light"
          }
        },
        {
          "output_type": "display_data",
          "data": {
            "image/png": "[encoded data removed]",
            "text/plain": [
              "<Figure size 432x288 with 1 Axes>"
            ]
          },
          "metadata": {
            "needs_background": "light"
          }
        },
        {
          "output_type": "stream",
          "name": "stdout",
          "text": [
            "              precision    recall  f1-score   support\n",
            "\n",
            "         ham       0.91      1.00      0.95       227\n",
            "        spam       1.00      0.90      0.95       222\n",
            "\n",
            "    accuracy                           0.95       449\n",
            "   macro avg       0.95      0.95      0.95       449\n",
            "weighted avg       0.95      0.95      0.95       449\n",
            "\n",
            "              precision    recall  f1-score   support\n",
            "\n",
            "         ham       0.93      0.97      0.95       227\n",
            "        spam       0.97      0.93      0.95       222\n",
            "\n",
            "    accuracy                           0.95       449\n",
            "   macro avg       0.95      0.95      0.95       449\n",
            "weighted avg       0.95      0.95      0.95       449\n",
            "\n",
            "test data\n",
            "['ham']\n",
            "['ham']\n",
            "['spam']\n",
            "['ham']\n",
            "['ham']\n",
            "['spam']\n"
          ]
        }
      ],
      "source": [
        "import numpy as np\n",
        "import pandas as pd\n",
        "import matplotlib.pyplot as plt\n",
        "\n",
        "df = pd.read_csv('spam.tsv', sep='\\t')\n",
        "\n",
        "df.head()\n",
        "\n",
        "df.isna().sum()\n",
        "\n",
        "df.tail()\n",
        "\n",
        "df.describe()\n",
        "\n",
        "df['label'].value_counts()/ (len(df))\n",
        "\n",
        "df['label'].value_counts()\n",
        "\n",
        "ham = df[df['label'] == 'ham']\n",
        "spam = df[df['label'] == 'spam']\n",
        "\n",
        "ham.shape, spam.shape\n",
        "\n",
        "ham = ham.sample(spam.shape[0])\n",
        "\n",
        "ham.shape, spam.shape\n",
        "\n",
        "data = ham.append(spam, ignore_index=True)\n",
        "\n",
        "data.shape\n",
        "\n",
        "data['label'].value_counts()\n",
        "\n",
        "data.head()\n",
        "\n",
        "plt.hist(data[data['label'] == 'ham']['length'], bins = 100, alpha = 0.7)\n",
        "plt.hist(data[data['label'] == 'spam']['length'], bins = 100, alpha = 0.7)\n",
        "plt.show()\n",
        "\n",
        "plt.hist(data[data['label'] == 'ham']['punct'], bins = 100, alpha = 0.7)\n",
        "plt.hist(data[data['label'] == 'spam']['punct'], bins = 100, alpha = 0.7)\n",
        "plt.show()\n",
        "\n",
        "data\n",
        "\n",
        "from sklearn.model_selection import train_test_split\n",
        "\n",
        "X_train, X_test, y_train, y_test =  train_test_split(data['message'], data['label'], test_size = 0.3, random_state =0, shuffle = True)\n",
        "\n",
        "1494 * 0.3\n",
        "\n",
        "X_train.shape\n",
        "\n",
        "X_test.shape\n",
        "\n",
        "\n",
        "\n",
        "\n",
        "\n",
        "from sklearn.feature_extraction.text import TfidfVectorizer\n",
        "from sklearn.ensemble import RandomForestClassifier\n",
        "\n",
        "from sklearn.pipeline import Pipeline\n",
        "\n",
        "classifier = Pipeline([(\"tfidf\", TfidfVectorizer()) , (\"classifier\", RandomForestClassifier(n_estimators=100))])\n",
        "\n",
        "classifier.fit(X_train, y_train)\n",
        "\n",
        "\n",
        "y_pred = classifier.predict(X_test)\n",
        "\n",
        "y_test, y_pred\n",
        "\n",
        "from sklearn.metrics import classification_report, accuracy_score, confusion_matrix\n",
        "\n",
        "accuracy_score(y_test, y_pred)\n",
        "\n",
        "0.9465478841870824 * 449\n",
        "\n",
        "confusion_matrix(y_test, y_pred)\n",
        "\n",
        "print(classification_report(y_test, y_pred))\n",
        "\n",
        "\n",
        "\n",
        "\n",
        "from sklearn.svm import SVC\n",
        "\n",
        "svm = Pipeline([(\"tfidf\", TfidfVectorizer()) , (\"classifier\", SVC(C = 100, gamma='auto'))])\n",
        "\n",
        "svm.fit(X_train, y_train)\n",
        "\n",
        "\n",
        "\n",
        "y_pred = svm.predict(X_test)\n",
        "\n",
        "accuracy_score(y_test, y_pred)\n",
        "\n",
        "confusion_matrix(y_test, y_pred)\n",
        "\n",
        "print(classification_report(y_test, y_pred))\n",
        "\n",
        "\n",
        "print('test data')\n",
        "\n",
        "test1 = ['Hello, You are learning natural Language Processing']\n",
        "test2 = ['Hope you are doing good and learning new things !']\n",
        "test3 = ['Congratulations, You won a lottery ticket worth $1 Million ! To claim call on 446677']\n",
        "\n",
        "print(classifier.predict(test1))\n",
        "print(classifier.predict(test2))\n",
        "print(classifier.predict(test3))\n",
        "\n",
        "print(svm.predict(test1))\n",
        "print(svm.predict(test2))\n",
        "print(svm.predict(test3))"
      ]
    }
  ]
}